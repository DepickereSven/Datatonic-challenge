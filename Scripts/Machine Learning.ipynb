{
 "cells": [
  {
   "cell_type": "markdown",
   "metadata": {},
   "source": [
    "# Distance vs Duration"
   ]
  },
  {
   "cell_type": "markdown",
   "metadata": {},
   "source": [
    "## Retrieve dataset"
   ]
  },
  {
   "cell_type": "code",
   "execution_count": 31,
   "metadata": {},
   "outputs": [
    {
     "name": "stdout",
     "output_type": "stream",
     "text": [
      "Aantal records om te beginnen: 1000000\n"
     ]
    }
   ],
   "source": [
    "import os\n",
    "import logging\n",
    "import pandas as pd\n",
    "import numpy as np\n",
    "import glob\n",
    "\n",
    "BASIC_PATH = '../Data/'\n",
    "ALL_FILES = BASIC_PATH + '*.csv'\n",
    "\n",
    "def readOneFile(url):\n",
    "    return pd.read_csv(url, index_col = 0)\n",
    "\n",
    "data = readOneFile(BASIC_PATH + \"flights_2010_9.csv\")\n",
    "print(\"Aantal records om te beginnen:\", len(data))\n",
    "data = pd.DataFrame(data=data, columns=[\"airline\", \"date\", \"departure_schedule\", \"arrival_schedule\", \"distance\", \"duration\", \"speed\", \"departure_airport\", \"arrival_airport\", \"arrival_state\", \"departure_state\"])"
   ]
  },
  {
   "cell_type": "markdown",
   "metadata": {},
   "source": [
    "## Convert military time to datetime"
   ]
  },
  {
   "cell_type": "code",
   "execution_count": 32,
   "metadata": {},
   "outputs": [],
   "source": [
    "import math\n",
    "from datetime import datetime\n",
    "\n",
    "def getTotalMinutes(time):\n",
    "    time_str = str(time).rjust(4, \"0\")\n",
    "    hours = time_str[:-2]\n",
    "    hours = int(hours)\n",
    "    if hours == 24:\n",
    "        hours = 0\n",
    "    minutes = int(time_str[-2:])\n",
    "    return datetime(2010, 1, 1, hours, minutes, 0)\n",
    "\n",
    "data[\"departure_schedule\"] = data[\"departure_schedule\"].map(getTotalMinutes)\n",
    "data[\"arrival_schedule\"] = data[\"arrival_schedule\"].map(getTotalMinutes)"
   ]
  },
  {
   "cell_type": "markdown",
   "metadata": {},
   "source": [
    "## Add timezones"
   ]
  },
  {
   "cell_type": "code",
   "execution_count": 33,
   "metadata": {},
   "outputs": [],
   "source": [
    "# UTC offset by state\n",
    "timezones = {\n",
    "    \"AL\" :-6,\n",
    "    \"AK\" :-9,\n",
    "    \"AZ\" :-7,\n",
    "    \"AR\" :-6,\n",
    "    \"CA\" :-8,\n",
    "    \"CO\" :-7,\n",
    "    \"CT\" :-5,\n",
    "    \"DE\" :-5,\n",
    "    \"FL\" :-5,\n",
    "    \"GA\" :-5,\n",
    "    \"HI\" :-10,\n",
    "    \"ID\" :-7,\n",
    "    \"IL\" :-6,\n",
    "    \"IN\" :-5,\n",
    "    \"IA\" : -6,\n",
    "    \"KS\" : -6,\n",
    "    \"KY\" : -6,\n",
    "    \"LA\" : -6,\n",
    "    \"ME\" : -5,\n",
    "    \"MD\" : -5,\n",
    "    \"MA\" : -5,\n",
    "    \"MI\" : -5,\n",
    "    \"MN\" : -6,\n",
    "    \"MS\" : -6,\n",
    "    \"MO\" : -6,\n",
    "    \"MT\" : -7,\n",
    "    \"NE\" : -6,\n",
    "    \"NV\" : -8,\n",
    "    \"NH\" : -5,\n",
    "    \"NJ\" : -5,\n",
    "    \"NM\" : -7,\n",
    "    \"NY\" : -5,\n",
    "    \"NC\" : -5,\n",
    "    \"ND\" : -6,\n",
    "    \"OH\" : -5,\n",
    "    \"OK\" : -6,\n",
    "    \"OR\" : -8,\n",
    "    \"PA\" : -5,\n",
    "    \"RI\" : -5,\n",
    "    \"SC\" : -5,\n",
    "    \"SD\" : -6,\n",
    "    \"TN\" : -6,\n",
    "    \"UT\": -7,\n",
    "    \"TX\": -6,\n",
    "    \"VT\": -5,\n",
    "    \"VA\": -5,\n",
    "    \"WA\": -8,\n",
    "    \"DC\": -5,\n",
    "    \"WV\": -5,\n",
    "    \"WI\": -6,\n",
    "    \"WY\": -5\n",
    "}\n",
    "data['arrival_tz'] = data['arrival_state'].map(lambda state: timezones[state])\n",
    "data['departure_tz'] = data['departure_state'].map(lambda state: timezones[state])"
   ]
  },
  {
   "cell_type": "markdown",
   "metadata": {},
   "source": [
    "## Change local time to UTC"
   ]
  },
  {
   "cell_type": "code",
   "execution_count": 34,
   "metadata": {},
   "outputs": [],
   "source": [
    "from datetime import timedelta\n",
    "\n",
    "arrival_schedules = []\n",
    "departure_schedules = []\n",
    "\n",
    "def timeToUTC(schedule, tz):\n",
    "    tdelta = timedelta(hours=abs(tz))\n",
    "    if tz > 0:\n",
    "        schedule -= tdelta\n",
    "    else:\n",
    "        schedule += tdelta\n",
    "    return schedule\n",
    "\n",
    "for i, row in data.iterrows():\n",
    "    arrival_schedule = row[\"arrival_schedule\"]\n",
    "    arrival_tz = row[\"arrival_tz\"]\n",
    "    departure_schedule = row[\"departure_schedule\"]\n",
    "    departure_tz = row[\"departure_tz\"]\n",
    "    \n",
    "    arrival_schedules.append(timeToUTC(arrival_schedule, arrival_tz))\n",
    "    departure_schedules.append(timeToUTC(departure_schedule, departure_tz))\n",
    "\n",
    "data[\"arrival_schedule\"] = arrival_schedules\n",
    "data[\"departure_schedule\"] = departure_schedules"
   ]
  },
  {
   "cell_type": "markdown",
   "metadata": {},
   "source": [
    "## Calculate duration"
   ]
  },
  {
   "cell_type": "code",
   "execution_count": 36,
   "metadata": {},
   "outputs": [],
   "source": [
    "durations = []\n",
    "for i, row in data.iterrows():\n",
    "    arrival = row[\"arrival_schedule\"]\n",
    "    departure = row[\"departure_schedule\"]\n",
    "    if arrival <= departure:\n",
    "        arrival += timedelta(days=1)\n",
    "    durations.append(arrival - departure)\n",
    "\n",
    "data[\"duration\"] = durations"
   ]
  },
  {
   "cell_type": "markdown",
   "metadata": {},
   "source": [
    "## Calculate speed"
   ]
  },
  {
   "cell_type": "code",
   "execution_count": 37,
   "metadata": {},
   "outputs": [],
   "source": [
    "speeds = []\n",
    "for i, row in data.iterrows():\n",
    "    duration = row[\"duration\"]\n",
    "    speed = row[\"distance\"] / ((duration.total_seconds() / 60) / 60)\n",
    "    speeds.append(speed)\n",
    "\n",
    "data[\"speed\"] = speeds"
   ]
  },
  {
   "cell_type": "markdown",
   "metadata": {},
   "source": [
    "## Cleanup"
   ]
  },
  {
   "cell_type": "code",
   "execution_count": 38,
   "metadata": {},
   "outputs": [
    {
     "name": "stdout",
     "output_type": "stream",
     "text": [
      "991082\n"
     ]
    }
   ],
   "source": [
    "filtered_data = data\n",
    "\n",
    "shortest_distance_in_us = 100 #KM\n",
    "longest_distance_in_us = 9000 #KM\n",
    "shortest_duration_in_us = timedelta(minutes=16)\n",
    "longest_duration_in_us = timedelta(hours=11, minutes=40)\n",
    "\n",
    "filtered_data = filtered_data[filtered_data.distance.between(shortest_distance_in_us, longest_distance_in_us)]\n",
    "filtered_data = filtered_data[filtered_data.duration.between(shortest_duration_in_us,longest_duration_in_us)]\n",
    "print(len(filtered_data))"
   ]
  },
  {
   "cell_type": "markdown",
   "metadata": {},
   "source": [
    "## Plot"
   ]
  },
  {
   "cell_type": "code",
   "execution_count": 42,
   "metadata": {},
   "outputs": [
    {
     "data": {
      "image/png": "[encoded data removed]",
      "text/plain": [
       "<Figure size 432x288 with 1 Axes>"
      ]
     },
     "metadata": {},
     "output_type": "display_data"
    }
   ],
   "source": [
    "import matplotlib.pyplot as plt\n",
    "\n",
    "plot_data = filtered_data\n",
    "\n",
    "x = plot_data['distance']\n",
    "y = plot_data['duration'].map(lambda tdelta: tdelta.total_seconds() / 60)\n",
    "plt.scatter(x, y)\n",
    "\n",
    "z = np.polyfit(x, y, 1)\n",
    "p = np.poly1d(z)\n",
    "plt.plot(x,p(x),\"r--\")\n",
    "\n",
    "plt.show()"
   ]
  },
  {
   "cell_type": "code",
   "execution_count": null,
   "metadata": {},
   "outputs": [],
   "source": []
  }
 ],
 "metadata": {
  "kernelspec": {
   "display_name": "Python 3",
   "language": "python",
   "name": "python3"
  },
  "language_info": {
   "codemirror_mode": {
    "name": "ipython",
    "version": 3
   },
   "file_extension": ".py",
   "mimetype": "text/x-python",
   "name": "python",
   "nbconvert_exporter": "python",
   "pygments_lexer": "ipython3",
   "version": "3.6.4"
  }
 },
 "nbformat": 4,
 "nbformat_minor": 2
}
