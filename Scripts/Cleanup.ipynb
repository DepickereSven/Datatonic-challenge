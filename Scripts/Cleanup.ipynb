{
 "cells": [
  {
   "cell_type": "markdown",
   "metadata": {},
   "source": [
    "# Data loading"
   ]
  },
  {
   "cell_type": "code",
   "execution_count": 3,
   "metadata": {},
   "outputs": [],
   "source": [
    "IMPORT_PATH = '../Initial_Data/Unzipped'\n",
    "IMPORT_ALL_PATH = IMPORT_PATH + '/*'\n",
    "\n",
    "import pandas as pd\n",
    "import numpy as np\n",
    "import glob as glob\n",
    "\n",
    "def readAllFiles():\n",
    "    files = glob.glob(IMPORT_ALL_PATH)\n",
    "    frames = []\n",
    "\n",
    "    for file in files:\n",
    "        df = pd.read_csv(file, index_col = 0)\n",
    "        frames.append(df)\n",
    "\n",
    "    return pd.concat(frames)\n",
    "\n",
    "def readOneFile(url):\n",
    "    return pd.read_csv(url, index_col = 0)\n",
    "\n",
    "df = readAllFiles()"
   ]
  },
  {
   "cell_type": "markdown",
   "metadata": {},
   "source": [
    "# Cleaning functions"
   ]
  },
  {
   "cell_type": "code",
   "execution_count": 17,
   "metadata": {
    "collapsed": true
   },
   "outputs": [],
   "source": [
    "import pandas as pd\n",
    "import numpy as np\n",
    "import glob as glob\n",
    "from math import *\n",
    "\n",
    "usaStates = [\n",
    "    \"AL\",\n",
    "    \"AK\",\n",
    "    \"AZ\",\n",
    "    \"AR\",\n",
    "    \"CA\",\n",
    "    \"CO\",\n",
    "    \"CT\",\n",
    "    \"DE\",\n",
    "    \"FL\",\n",
    "    \"GA\",\n",
    "    \"HI\",\n",
    "    \"ID\",\n",
    "    \"IL\",\n",
    "    \"IN\",\n",
    "    \"IA\",\n",
    "    \"KS\",\n",
    "    \"KY\",\n",
    "    \"LA\",\n",
    "    \"ME\",\n",
    "    \"MD\",\n",
    "    \"MA\",\n",
    "    \"MI\",\n",
    "    \"MN\",\n",
    "    \"MS\",\n",
    "    \"MO\",\n",
    "    \"MT\",\n",
    "    \"NE\",\n",
    "    \"NV\",\n",
    "    \"NH\",\n",
    "    \"NJ\",\n",
    "    \"NM\",\n",
    "    \"NY\",\n",
    "    \"NC\",\n",
    "    \"ND\",\n",
    "    \"OH\",\n",
    "    \"OK\",\n",
    "    \"OR\",\n",
    "    \"PA\",\n",
    "    \"RI\",\n",
    "    \"SC\",\n",
    "    \"SD\",\n",
    "    \"TN\",\n",
    "    \"TX\",\n",
    "    \"UT\",\n",
    "    \"VT\",\n",
    "    \"VA\",\n",
    "    \"WA\",\n",
    "    \"WV\",\n",
    "    \"WI\",\n",
    "    \"WY\",\n",
    "]\n",
    "\n",
    "def deleteWrongStates(df):\n",
    "    print(\"Aantal records:\", len(df))\n",
    "    \n",
    "    for el in df.departure_state.unique():\n",
    "        if(el not in usaStates):\n",
    "            df = df.drop(df[df['departure_state'] == el].index)\n",
    "    print(\"Aantal records na verwijderen foute vertrek staat:\", len(df))\n",
    "\n",
    "    for el in df.arrival_state.unique():\n",
    "        if(el not in usaStates):\n",
    "            df = df.drop(df[df['arrival_state'] == el].index)\n",
    "    print(\"Aantal records na verwijderen foute aankomst staat:\", len(df))\n",
    "          \n",
    "    return df\n",
    "\n",
    "def convertColumnTypes(df):\n",
    "    df.departure_schedule = df.departure_schedule.astype(int)\n",
    "    df.departure_delay = df.departure_delay.astype(float)\n",
    "    df.arrival_schedule = df.arrival_schedule.astype(int)\n",
    "    df.arrival_delay = df.arrival_delay.astype(float)\n",
    "    df.arrival_actual = df.arrival_actual.astype(int)\n",
    "    df.departure_actual = df.departure_actual.astype(int)\n",
    "    return df\n",
    "\n",
    "def dropMoreAdvancedDuplicates(df):\n",
    "    df = df.groupby(['date', 'airline', 'airline_code', 'departure_airport', 'departure_state', 'departure_lat', 'departure_lon', 'departure_schedule', 'arrival_airport', 'arrival_state', 'arrival_lat', 'arrival_lon', 'arrival_schedule']).mean().reset_index()\n",
    "    df = convertColumnTypes(df)\n",
    "    if 'index' in df.columns:\n",
    "        df = df.drop(['index'], axis=1) #remove old index\n",
    "    return df\n"
   ]
  },
  {
   "cell_type": "code",
   "execution_count": 8,
   "metadata": {},
   "outputs": [
    {
     "data": {
      "text/html": [
       "<div>\n",
       "<style>\n",
       "    .dataframe thead tr:only-child th {\n",
       "        text-align: right;\n",
       "    }\n",
       "\n",
       "    .dataframe thead th {\n",
       "        text-align: left;\n",
       "    }\n",
       "\n",
       "    .dataframe tbody tr th {\n",
       "        vertical-align: top;\n",
       "    }\n",
       "</style>\n",
       "<table border=\"1\" class=\"dataframe\">\n",
       "  <thead>\n",
       "    <tr style=\"text-align: right;\">\n",
       "      <th></th>\n",
       "      <th>airline</th>\n",
       "      <th>airline_code</th>\n",
       "      <th>departure_airport</th>\n",
       "      <th>departure_state</th>\n",
       "      <th>departure_lat</th>\n",
       "      <th>departure_lon</th>\n",
       "      <th>arrival_airport</th>\n",
       "      <th>arrival_state</th>\n",
       "      <th>arrival_lat</th>\n",
       "      <th>arrival_lon</th>\n",
       "      <th>departure_schedule</th>\n",
       "      <th>departure_actual</th>\n",
       "      <th>departure_delay</th>\n",
       "      <th>arrival_schedule</th>\n",
       "      <th>arrival_actual</th>\n",
       "      <th>arrival_delay</th>\n",
       "    </tr>\n",
       "    <tr>\n",
       "      <th>date</th>\n",
       "      <th></th>\n",
       "      <th></th>\n",
       "      <th></th>\n",
       "      <th></th>\n",
       "      <th></th>\n",
       "      <th></th>\n",
       "      <th></th>\n",
       "      <th></th>\n",
       "      <th></th>\n",
       "      <th></th>\n",
       "      <th></th>\n",
       "      <th></th>\n",
       "      <th></th>\n",
       "      <th></th>\n",
       "      <th></th>\n",
       "      <th></th>\n",
       "    </tr>\n",
       "  </thead>\n",
       "  <tbody>\n",
       "  </tbody>\n",
       "</table>\n",
       "</div>"
      ],
      "text/plain": [
       "Empty DataFrame\n",
       "Columns: [airline, airline_code, departure_airport, departure_state, departure_lat, departure_lon, arrival_airport, arrival_state, arrival_lat, arrival_lon, departure_schedule, departure_actual, departure_delay, arrival_schedule, arrival_actual, arrival_delay]\n",
       "Index: []"
      ]
     },
     "execution_count": 8,
     "metadata": {},
     "output_type": "execute_result"
    }
   ],
   "source": [
    "# Controleer of er records zijn die een vertrektijd hebben die vroeger is dan de aankomsttijd\n",
    "# Omdat de aankomstdatum niet bijgehouden wordt, kan je niet zeker zijn of het de volgende dag is een een fout record\n",
    "# Daarom controleren we ook nog of de geplande vliegtijd meer dan x aantal minuten te snel is\n",
    "# We hebben geen extreme waardes gevonden en daarom geen records verwijderd\n",
    "df[(df.departure_schedule > df.arrival_schedule) & ((df.arrival_delay - df.departure_delay) < -80)]"
   ]
  },
  {
   "cell_type": "markdown",
   "metadata": {},
   "source": [
    "# Execute cleaning"
   ]
  },
  {
   "cell_type": "code",
   "execution_count": 18,
   "metadata": {},
   "outputs": [
    {
     "name": "stdout",
     "output_type": "stream",
     "text": [
      "Aantal records om te beginnen: 11401196\n",
      "Aantal records na verwijderen van dubbels: 10751921\n",
      "Aantal records na nieuwe index: 10751921\n",
      "Aantal records na verwijderen lege waarden: 10751919\n",
      "Aantal records: 10751919\n",
      "Aantal records na verwijderen foute vertrek staat: 10695506\n",
      "Aantal records na verwijderen foute aankomst staat: 10642322\n",
      "Aantal records na het verwijderen van de verborgen dubbels: 10642032\n"
     ]
    }
   ],
   "source": [
    "print(\"Aantal records om te beginnen:\", len(df))\n",
    "cleaning = df\n",
    "\n",
    "cleaning = cleaning.drop_duplicates()\n",
    "print(\"Aantal records na verwijderen van dubbels:\", len(cleaning))\n",
    "\n",
    "cleaning = cleaning.reset_index()\n",
    "print(\"Aantal records na nieuwe index:\", len(cleaning))\n",
    "\n",
    "cleaning = cleaning.dropna()\n",
    "print(\"Aantal records na verwijderen lege waarden:\", len(cleaning))\n",
    "\n",
    "cleaning = deleteWrongStates(cleaning)\n",
    "cleaning = convertColumnTypes(cleaning)\n",
    "\n",
    "cleaning = dropMoreAdvancedDuplicates(cleaning)\n",
    "print(\"Aantal records na het verwijderen van de verborgen dubbels:\", len(cleaning))\n",
    "\n",
    "cleanData = cleaning"
   ]
  },
  {
   "cell_type": "markdown",
   "metadata": {},
   "source": [
    "# Export df to csv"
   ]
  },
  {
   "cell_type": "code",
   "execution_count": 19,
   "metadata": {
    "collapsed": true
   },
   "outputs": [],
   "source": [
    "EXPORT_PATH = '../Data'\n",
    "\n",
    "def exportDfToCsvFiles(df):\n",
    "    step = 1000000\n",
    "    start = 0\n",
    "    stop = step\n",
    "    i = 0\n",
    "\n",
    "    while start < len(df):\n",
    "        if stop >= len(df):\n",
    "            stop = len(df)\n",
    "        fileName = EXPORT_PATH +  '/flights_2010_' + str(i) + '.csv'\n",
    "        \n",
    "        data = df.iloc[start:stop, 0:]\n",
    "        data.to_csv( fileName, sep=',')\n",
    "\n",
    "        start += step\n",
    "        stop += step\n",
    "        i += 1\n",
    "\n",
    "exportDfToCsvFiles(cleanData)"
   ]
  },
  {
   "cell_type": "markdown",
   "metadata": {},
   "source": [
    "# Functions for json"
   ]
  },
  {
   "cell_type": "markdown",
   "metadata": {},
   "source": [
    "### Export everything to json"
   ]
  },
  {
   "cell_type": "code",
   "execution_count": 11,
   "metadata": {
    "collapsed": true
   },
   "outputs": [],
   "source": [
    "#creating a json file\n",
    "cleanData.to_json('flights_2010_file_time_update_versie_2.json', orient='records')"
   ]
  },
  {
   "cell_type": "markdown",
   "metadata": {},
   "source": [
    "### Export selected part to json"
   ]
  },
  {
   "cell_type": "code",
   "execution_count": 15,
   "metadata": {
    "collapsed": true
   },
   "outputs": [],
   "source": [
    "#selecting SouthWest Airlines\n",
    "df_southWest = cleanData.loc[df['airline'] == \"WN\"]\n",
    "#selecting Alaska Airlines\n",
    "df_alaska = cleanData.loc[df['airline'] == \"AS\"]\n",
    "#selecting Hawaiian Airlines\n",
    "df_hawaiian = cleanData.loc[df['airline'] == \"HA\"]"
   ]
  },
  {
   "cell_type": "code",
   "execution_count": 16,
   "metadata": {
    "collapsed": true
   },
   "outputs": [],
   "source": [
    "df_southWest = df_southWest[['date', 'departure_airport','departure_state',\n",
    "                          'departure_lat', 'departure_lon',\n",
    "                          'arrival_airport', 'arrival_state',\n",
    "                          'arrival_lat', 'arrival_lon']]\n",
    "df_alaska = df_alaska[['date', 'departure_airport','departure_state',\n",
    "                          'departure_lat', 'departure_lon',\n",
    "                          'arrival_airport', 'arrival_state',\n",
    "                          'arrival_lat', 'arrival_lon']]\n",
    "df_hawaiian = df_hawaiian[['date', 'departure_airport','departure_state',\n",
    "                          'departure_lat', 'departure_lon',\n",
    "                          'arrival_airport', 'arrival_state',\n",
    "                          'arrival_lat', 'arrival_lon']]"
   ]
  },
  {
   "cell_type": "code",
   "execution_count": 29,
   "metadata": {
    "collapsed": true
   },
   "outputs": [],
   "source": [
    "#creating a json file for SouthWest Airlines\n",
    "df_southWest.to_json('SouthWest_Airlines.json', orient='records')"
   ]
  },
  {
   "cell_type": "code",
   "execution_count": 30,
   "metadata": {
    "collapsed": true
   },
   "outputs": [],
   "source": [
    "#creating a json file for Alaska Airlines\n",
    "df_southWest.to_json('Alaska_Airlines.json', orient='records')"
   ]
  },
  {
   "cell_type": "code",
   "execution_count": 31,
   "metadata": {
    "collapsed": true
   },
   "outputs": [],
   "source": [
    "#creating a json file for Hawaiian Airlines\n",
    "df_southWest.to_json('Hawaiian_Airlines.json', orient='records')"
   ]
  }
 ],
 "metadata": {
  "kernelspec": {
   "display_name": "Python 3",
   "language": "python",
   "name": "python3"
  },
  "language_info": {
   "codemirror_mode": {
    "name": "ipython",
    "version": 3
   },
   "file_extension": ".py",
   "mimetype": "text/x-python",
   "name": "python",
   "nbconvert_exporter": "python",
   "pygments_lexer": "ipython3",
   "version": "3.6.2"
  }
 },
 "nbformat": 4,
 "nbformat_minor": 2
}
