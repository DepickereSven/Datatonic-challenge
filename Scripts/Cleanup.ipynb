{
 "cells": [
  {
   "cell_type": "markdown",
   "metadata": {},
   "source": [
    "# Data loading"
   ]
  },
  {
   "cell_type": "code",
   "execution_count": 76,
   "metadata": {},
   "outputs": [],
   "source": [
    "IMPORT_PATH = '../Initial_Data/Unzipped'\n",
    "IMPORT_ALL_PATH = IMPORT_PATH + '/*'\n",
    "\n",
    "import pandas as pd\n",
    "import numpy as np\n",
    "import glob as glob\n",
    "\n",
    "def readAllFiles():\n",
    "    files = glob.glob(IMPORT_ALL_PATH)\n",
    "    frames = []\n",
    "\n",
    "    for file in files:\n",
    "        df = pd.read_csv(file, index_col = 0)\n",
    "        frames.append(df)\n",
    "\n",
    "    return pd.concat(frames)\n",
    "\n",
    "def readOneFile(url):\n",
    "    return pd.read_csv(url, index_col = 0)\n",
    "\n",
    "df = readAllFiles()"
   ]
  },
  {
   "cell_type": "markdown",
   "metadata": {},
   "source": [
    "# Cleaning functions"
   ]
  },
  {
   "cell_type": "code",
   "execution_count": 77,
   "metadata": {},
   "outputs": [],
   "source": [
    "import pandas as pd\n",
    "import numpy as np\n",
    "import glob as glob\n",
    "from math import *\n",
    "\n",
    "usaStates = [\n",
    "    \"AL\",\n",
    "    \"AK\",\n",
    "    \"AZ\",\n",
    "    \"AR\",\n",
    "    \"CA\",\n",
    "    \"CO\",\n",
    "    \"CT\",\n",
    "    \"DE\",\n",
    "    \"FL\",\n",
    "    \"GA\",\n",
    "    \"HI\",\n",
    "    \"ID\",\n",
    "    \"IL\",\n",
    "    \"IN\",\n",
    "    \"IA\",\n",
    "    \"KS\",\n",
    "    \"KY\",\n",
    "    \"LA\",\n",
    "    \"ME\",\n",
    "    \"MD\",\n",
    "    \"MA\",\n",
    "    \"MI\",\n",
    "    \"MN\",\n",
    "    \"MS\",\n",
    "    \"MO\",\n",
    "    \"MT\",\n",
    "    \"NE\",\n",
    "    \"NV\",\n",
    "    \"NH\",\n",
    "    \"NJ\",\n",
    "    \"NM\",\n",
    "    \"NY\",\n",
    "    \"NC\",\n",
    "    \"ND\",\n",
    "    \"OH\",\n",
    "    \"OK\",\n",
    "    \"OR\",\n",
    "    \"PA\",\n",
    "    \"RI\",\n",
    "    \"SC\",\n",
    "    \"SD\",\n",
    "    \"TN\",\n",
    "    \"TX\",\n",
    "    \"UT\",\n",
    "    \"VT\",\n",
    "    \"VA\",\n",
    "    \"WA\",\n",
    "    \"WV\",\n",
    "    \"WI\",\n",
    "    \"WY\",\n",
    "]\n",
    "\n",
    "def deleteWrongStates(df):\n",
    "    print(\"Aantal records:\", len(df))\n",
    "    \n",
    "    for el in df.departure_state.unique():\n",
    "        if(el not in usaStates):\n",
    "            df = df.drop(df[df['departure_state'] == el].index)\n",
    "    print(\"Aantal records na verwijderen foute vertrek staat:\", len(df))\n",
    "\n",
    "    for el in df.arrival_state.unique():\n",
    "        if(el not in usaStates):\n",
    "            df = df.drop(df[df['arrival_state'] == el].index)\n",
    "    print(\"Aantal records na verwijderen foute aankomst staat:\", len(df))\n",
    "          \n",
    "    return df\n",
    "\n",
    "def convertColumnTypes(df):\n",
    "    df.departure_schedule = df.departure_schedule.astype(int)\n",
    "    df.departure_delay = df.departure_delay.astype(float)\n",
    "    df.arrival_schedule = df.arrival_schedule.astype(int)\n",
    "    df.arrival_delay = df.arrival_delay.astype(float)\n",
    "    df.arrival_actual = df.arrival_actual.astype(int)\n",
    "    df.departure_actual = df.departure_actual.astype(int)\n",
    "    return df\n",
    "\n",
    "def dropMoreAdvancedDuplicates(df):\n",
    "    df = df.groupby(['date', 'airline', 'airline_code', 'departure_airport', 'departure_state', 'departure_lat', 'departure_lon', 'departure_schedule', 'arrival_airport', 'arrival_state', 'arrival_lat', 'arrival_lon', 'arrival_schedule']).mean().reset_index()\n",
    "    df = convertColumnTypes(df)\n",
    "    if 'index' in df.columns:\n",
    "        df = df.drop(['index'], axis=1) #remove old index\n",
    "    return df\n"
   ]
  },
  {
   "cell_type": "code",
   "execution_count": 78,
   "metadata": {},
   "outputs": [
    {
     "data": {
      "text/html": [
       "<div>\n",
       "<style scoped>\n",
       "    .dataframe tbody tr th:only-of-type {\n",
       "        vertical-align: middle;\n",
       "    }\n",
       "\n",
       "    .dataframe tbody tr th {\n",
       "        vertical-align: top;\n",
       "    }\n",
       "\n",
       "    .dataframe thead th {\n",
       "        text-align: right;\n",
       "    }\n",
       "</style>\n",
       "<table border=\"1\" class=\"dataframe\">\n",
       "  <thead>\n",
       "    <tr style=\"text-align: right;\">\n",
       "      <th></th>\n",
       "      <th>airline</th>\n",
       "      <th>airline_code</th>\n",
       "      <th>departure_airport</th>\n",
       "      <th>departure_state</th>\n",
       "      <th>departure_lat</th>\n",
       "      <th>departure_lon</th>\n",
       "      <th>arrival_airport</th>\n",
       "      <th>arrival_state</th>\n",
       "      <th>arrival_lat</th>\n",
       "      <th>arrival_lon</th>\n",
       "      <th>departure_schedule</th>\n",
       "      <th>departure_actual</th>\n",
       "      <th>departure_delay</th>\n",
       "      <th>arrival_schedule</th>\n",
       "      <th>arrival_actual</th>\n",
       "      <th>arrival_delay</th>\n",
       "    </tr>\n",
       "    <tr>\n",
       "      <th>date</th>\n",
       "      <th></th>\n",
       "      <th></th>\n",
       "      <th></th>\n",
       "      <th></th>\n",
       "      <th></th>\n",
       "      <th></th>\n",
       "      <th></th>\n",
       "      <th></th>\n",
       "      <th></th>\n",
       "      <th></th>\n",
       "      <th></th>\n",
       "      <th></th>\n",
       "      <th></th>\n",
       "      <th></th>\n",
       "      <th></th>\n",
       "      <th></th>\n",
       "    </tr>\n",
       "  </thead>\n",
       "  <tbody>\n",
       "  </tbody>\n",
       "</table>\n",
       "</div>"
      ],
      "text/plain": [
       "Empty DataFrame\n",
       "Columns: [airline, airline_code, departure_airport, departure_state, departure_lat, departure_lon, arrival_airport, arrival_state, arrival_lat, arrival_lon, departure_schedule, departure_actual, departure_delay, arrival_schedule, arrival_actual, arrival_delay]\n",
       "Index: []"
      ]
     },
     "execution_count": 78,
     "metadata": {},
     "output_type": "execute_result"
    }
   ],
   "source": [
    "# Controleer of er records zijn die een vertrektijd hebben die vroeger is dan de aankomsttijd\n",
    "# Omdat de aankomstdatum niet bijgehouden wordt, kan je niet zeker zijn of het de volgende dag is een een fout record\n",
    "# Daarom controleren we ook nog of de geplande vliegtijd meer dan x aantal minuten te snel is\n",
    "# We hebben geen extreme waardes gevonden en daarom geen records verwijderd\n",
    "df[(df.departure_schedule > df.arrival_schedule) & ((df.arrival_delay - df.departure_delay) < -80)]"
   ]
  },
  {
   "cell_type": "markdown",
   "metadata": {},
   "source": [
    "## Convert military time to datetime"
   ]
  },
  {
   "cell_type": "code",
   "execution_count": 79,
   "metadata": {},
   "outputs": [],
   "source": [
    "import math\n",
    "from datetime import datetime\n",
    "\n",
    "def getTotalMinutes(time):\n",
    "    time_str = str(time).rjust(4, \"0\")\n",
    "    hours = time_str[:-2]\n",
    "    hours = int(hours)\n",
    "    if hours == 24:\n",
    "        hours = 0\n",
    "    minutes = int(time_str[-2:])\n",
    "    return datetime(2010, 1, 1, hours, minutes, 0)\n",
    "\n",
    "def convertMilitaryTime(df):\n",
    "    df[\"departure_schedule\"] = df[\"departure_schedule\"].map(getTotalMinutes)\n",
    "    df[\"arrival_schedule\"] = df[\"arrival_schedule\"].map(getTotalMinutes)\n",
    "    return df"
   ]
  },
  {
   "cell_type": "markdown",
   "metadata": {},
   "source": [
    "## Add timezones"
   ]
  },
  {
   "cell_type": "code",
   "execution_count": 80,
   "metadata": {},
   "outputs": [],
   "source": [
    "# UTC offset by state\n",
    "timezones = {\n",
    "    \"AL\" :-6,\n",
    "    \"AK\" :-9,\n",
    "    \"AZ\" :-7,\n",
    "    \"AR\" :-6,\n",
    "    \"CA\" :-8,\n",
    "    \"CO\" :-7,\n",
    "    \"CT\" :-5,\n",
    "    \"DE\" :-5,\n",
    "    \"FL\" :-5,\n",
    "    \"GA\" :-5,\n",
    "    \"HI\" :-10,\n",
    "    \"ID\" :-7,\n",
    "    \"IL\" :-6,\n",
    "    \"IN\" :-5,\n",
    "    \"IA\" : -6,\n",
    "    \"KS\" : -6,\n",
    "    \"KY\" : -6,\n",
    "    \"LA\" : -6,\n",
    "    \"ME\" : -5,\n",
    "    \"MD\" : -5,\n",
    "    \"MA\" : -5,\n",
    "    \"MI\" : -5,\n",
    "    \"MN\" : -6,\n",
    "    \"MS\" : -6,\n",
    "    \"MO\" : -6,\n",
    "    \"MT\" : -7,\n",
    "    \"NE\" : -6,\n",
    "    \"NV\" : -8,\n",
    "    \"NH\" : -5,\n",
    "    \"NJ\" : -5,\n",
    "    \"NM\" : -7,\n",
    "    \"NY\" : -5,\n",
    "    \"NC\" : -5,\n",
    "    \"ND\" : -6,\n",
    "    \"OH\" : -5,\n",
    "    \"OK\" : -6,\n",
    "    \"OR\" : -8,\n",
    "    \"PA\" : -5,\n",
    "    \"RI\" : -5,\n",
    "    \"SC\" : -5,\n",
    "    \"SD\" : -6,\n",
    "    \"TN\" : -6,\n",
    "    \"UT\": -7,\n",
    "    \"TX\": -6,\n",
    "    \"VT\": -5,\n",
    "    \"VA\": -5,\n",
    "    \"WA\": -8,\n",
    "    \"DC\": -5,\n",
    "    \"WV\": -5,\n",
    "    \"WI\": -6,\n",
    "    \"WY\": -5\n",
    "}\n",
    "\n",
    "def addTimezones(df):\n",
    "    df['arrival_tz'] = df['arrival_state'].map(lambda state: timezones[state])\n",
    "    df['departure_tz'] = df['departure_state'].map(lambda state: timezones[state])\n",
    "    return df"
   ]
  },
  {
   "cell_type": "markdown",
   "metadata": {},
   "source": [
    "## Change local time to UTC"
   ]
  },
  {
   "cell_type": "code",
   "execution_count": 81,
   "metadata": {},
   "outputs": [],
   "source": [
    "from datetime import timedelta\n",
    "\n",
    "def timeToUTC(schedule, tz):\n",
    "    tdelta = timedelta(hours=abs(tz))\n",
    "    if tz > 0:\n",
    "        schedule -= tdelta\n",
    "    else:\n",
    "        schedule += tdelta\n",
    "    return schedule\n",
    "\n",
    "def convertLocalToUTC(df):\n",
    "    arrival_schedules = []\n",
    "    departure_schedules = []\n",
    "    for i, row in df.iterrows():\n",
    "        arrival_schedule = row[\"arrival_schedule\"]\n",
    "        arrival_tz = row[\"arrival_tz\"]\n",
    "        departure_schedule = row[\"departure_schedule\"]\n",
    "        departure_tz = row[\"departure_tz\"]\n",
    "\n",
    "        arrival_schedules.append(timeToUTC(arrival_schedule, arrival_tz))\n",
    "        departure_schedules.append(timeToUTC(departure_schedule, departure_tz))\n",
    "\n",
    "    df[\"arrival_schedule\"] = arrival_schedules\n",
    "    df[\"departure_schedule\"] = departure_schedules\n",
    "    return df"
   ]
  },
  {
   "cell_type": "markdown",
   "metadata": {},
   "source": [
    "## Calculate duration"
   ]
  },
  {
   "cell_type": "code",
   "execution_count": 82,
   "metadata": {},
   "outputs": [],
   "source": [
    "def addDurations(df): \n",
    "    durations = []\n",
    "    for i, row in df.iterrows():\n",
    "        arrival = row[\"arrival_schedule\"]\n",
    "        departure = row[\"departure_schedule\"]\n",
    "        if arrival <= departure:\n",
    "            arrival += timedelta(days=1)\n",
    "        durations.append(arrival - departure)\n",
    "\n",
    "    df[\"duration\"] = durations\n",
    "    return df"
   ]
  },
  {
   "cell_type": "markdown",
   "metadata": {},
   "source": [
    "## Calculate distance"
   ]
  },
  {
   "cell_type": "code",
   "execution_count": 83,
   "metadata": {},
   "outputs": [],
   "source": [
    "def addDistances(df):\n",
    "    distances = []\n",
    "    for index, row in df.iterrows():\n",
    "        distances.append(calcTheDistance(row))\n",
    "    df[\"distance\"] = distances\n",
    "    return df\n",
    "\n",
    "def calcTheDistance(el):\n",
    "    slat = radians(float(el[\"arrival_lat\"]))\n",
    "    slon = radians(float(el[\"arrival_lon\"]))\n",
    "    elat = radians(float(el[\"departure_lat\"]))\n",
    "    elon = radians(float(el[\"departure_lon\"]))\n",
    "    return 6371.01 * acos(sin(slat)*sin(elat) + cos(slat)*cos(elat)*cos(slon - elon))"
   ]
  },
  {
   "cell_type": "markdown",
   "metadata": {},
   "source": [
    "## Calculate speed"
   ]
  },
  {
   "cell_type": "code",
   "execution_count": 84,
   "metadata": {},
   "outputs": [],
   "source": [
    "def addSpeed(df):\n",
    "    speeds = []\n",
    "    for i, row in df.iterrows():\n",
    "        duration = row[\"duration\"]\n",
    "        speed = row[\"distance\"] / ((duration.total_seconds() / 60) / 60)\n",
    "        speeds.append(speed)\n",
    "\n",
    "    df[\"speed\"] = speeds\n",
    "    return df"
   ]
  },
  {
   "cell_type": "markdown",
   "metadata": {},
   "source": [
    "## Remove too long and too short flights"
   ]
  },
  {
   "cell_type": "code",
   "execution_count": 85,
   "metadata": {},
   "outputs": [],
   "source": [
    "def deleteImpossibleFlights(df):\n",
    "    shortest_distance_in_us = 100 #KM\n",
    "    longest_distance_in_us = 9000 #KM\n",
    "    shortest_duration_in_us = timedelta(minutes=16)\n",
    "    longest_duration_in_us = timedelta(hours=11, minutes=40)\n",
    "\n",
    "    df = df[df.distance.between(shortest_distance_in_us, longest_distance_in_us)]\n",
    "    df = df[df.duration.between(shortest_duration_in_us,longest_duration_in_us)]\n",
    "    return df"
   ]
  },
  {
   "cell_type": "markdown",
   "metadata": {},
   "source": [
    "# Execute cleaning"
   ]
  },
  {
   "cell_type": "code",
   "execution_count": 86,
   "metadata": {},
   "outputs": [
    {
     "name": "stdout",
     "output_type": "stream",
     "text": [
      "Aantal records om te beginnen: 11401196\n",
      "Aantal records na verwijderen van dubbels: 10751921\n",
      "Aantal records na nieuwe index: 10751921\n",
      "Aantal records na verwijderen lege waarden: 10751919\n",
      "Aantal records: 10751919\n",
      "Aantal records na verwijderen foute vertrek staat: 10695506\n",
      "Aantal records na verwijderen foute aankomst staat: 10642322\n",
      "Aantal records na het verwijderen van de verborgen dubbels: 10642032\n",
      "Aantal records na het verwijderen van de onmogelijk lange of korte vluchten: 10552133\n"
     ]
    }
   ],
   "source": [
    "print(\"Aantal records om te beginnen:\", len(df))\n",
    "cleaning = df\n",
    "\n",
    "cleaning = cleaning.drop_duplicates()\n",
    "print(\"Aantal records na verwijderen van dubbels:\", len(cleaning))\n",
    "\n",
    "cleaning = cleaning.reset_index()\n",
    "print(\"Aantal records na nieuwe index:\", len(cleaning))\n",
    "\n",
    "cleaning = cleaning.dropna()\n",
    "print(\"Aantal records na verwijderen lege waarden:\", len(cleaning))\n",
    "\n",
    "cleaning = deleteWrongStates(cleaning)\n",
    "cleaning = convertColumnTypes(cleaning)\n",
    "\n",
    "cleaning = dropMoreAdvancedDuplicates(cleaning)\n",
    "print(\"Aantal records na het verwijderen van de verborgen dubbels:\", len(cleaning))\n",
    "\n",
    "cleaning = convertMilitaryTime(cleaning)\n",
    "cleaning = addTimezones(cleaning)\n",
    "cleaning = convertLocalToUTC(cleaning)\n",
    "cleaning = addDurations(cleaning)\n",
    "cleaning = addDistances(cleaning)\n",
    "cleaning = addSpeed(cleaning)\n",
    "\n",
    "cleaning = deleteImpossibleFlights(cleaning)\n",
    "print(\"Aantal records na het verwijderen van de onmogelijk lange of korte vluchten:\", len(cleaning))\n",
    "\n",
    "cleanData = cleaning"
   ]
  },
  {
   "cell_type": "markdown",
   "metadata": {},
   "source": [
    "# Plot"
   ]
  },
  {
   "cell_type": "code",
   "execution_count": 88,
   "metadata": {},
   "outputs": [
    {
     "data": {
      "image/png": "[encoded data removed]",
      "text/plain": [
       "<Figure size 432x288 with 1 Axes>"
      ]
     },
     "metadata": {},
     "output_type": "display_data"
    }
   ],
   "source": [
    "import matplotlib.pyplot as plt\n",
    "\n",
    "plot_data = cleaning\n",
    "\n",
    "x = plot_data['distance']\n",
    "y = plot_data['duration'].map(lambda tdelta: tdelta.total_seconds() / 60)\n",
    "plt.scatter(x, y)\n",
    "\n",
    "z = np.polyfit(x, y, 1)\n",
    "p = np.poly1d(z)\n",
    "plt.plot(x,p(x),\"r--\")\n",
    "\n",
    "plt.show()"
   ]
  },
  {
   "cell_type": "markdown",
   "metadata": {},
   "source": [
    "# Export df to csv"
   ]
  },
  {
   "cell_type": "code",
   "execution_count": 87,
   "metadata": {},
   "outputs": [],
   "source": [
    "EXPORT_PATH = '../Data'\n",
    "\n",
    "def exportDfToCsvFiles(df):\n",
    "    step = 1000000\n",
    "    start = 0\n",
    "    stop = step\n",
    "    i = 0\n",
    "\n",
    "    while start < len(df):\n",
    "        if stop >= len(df):\n",
    "            stop = len(df)\n",
    "        fileName = EXPORT_PATH +  '/flights_2010_' + str(i) + '.csv'\n",
    "        \n",
    "        data = df.iloc[start:stop, 0:]\n",
    "        data.to_csv( fileName, sep=',')\n",
    "\n",
    "        start += step\n",
    "        stop += step\n",
    "        i += 1\n",
    "\n",
    "exportDfToCsvFiles(cleanData)"
   ]
  },
  {
   "cell_type": "markdown",
   "metadata": {},
   "source": [
    "# Functions for json"
   ]
  },
  {
   "cell_type": "markdown",
   "metadata": {},
   "source": [
    "### Export everything to json"
   ]
  },
  {
   "cell_type": "code",
   "execution_count": 90,
   "metadata": {},
   "outputs": [],
   "source": [
    "#creating a json file\n",
    "cleanData.rename(columns={\"distance\": \"Distance\", \"duration\": \"scheduled flight time\", \"speed\": \"Average speed\"}, inplace=True)\n",
    "cleanData.to_json('flights_2010_file_time_update_versie_2.json', orient='records')"
   ]
  },
  {
   "cell_type": "markdown",
   "metadata": {},
   "source": [
    "### Export selected part to json"
   ]
  },
  {
   "cell_type": "code",
   "execution_count": 15,
   "metadata": {
    "collapsed": true
   },
   "outputs": [],
   "source": [
    "#selecting SouthWest Airlines\n",
    "df_southWest = cleanData.loc[df['airline'] == \"WN\"]\n",
    "#selecting Alaska Airlines\n",
    "df_alaska = cleanData.loc[df['airline'] == \"AS\"]\n",
    "#selecting Hawaiian Airlines\n",
    "df_hawaiian = cleanData.loc[df['airline'] == \"HA\"]"
   ]
  },
  {
   "cell_type": "code",
   "execution_count": 16,
   "metadata": {
    "collapsed": true
   },
   "outputs": [],
   "source": [
    "df_southWest = df_southWest[['date', 'departure_airport','departure_state',\n",
    "                          'departure_lat', 'departure_lon',\n",
    "                          'arrival_airport', 'arrival_state',\n",
    "                          'arrival_lat', 'arrival_lon']]\n",
    "df_alaska = df_alaska[['date', 'departure_airport','departure_state',\n",
    "                          'departure_lat', 'departure_lon',\n",
    "                          'arrival_airport', 'arrival_state',\n",
    "                          'arrival_lat', 'arrival_lon']]\n",
    "df_hawaiian = df_hawaiian[['date', 'departure_airport','departure_state',\n",
    "                          'departure_lat', 'departure_lon',\n",
    "                          'arrival_airport', 'arrival_state',\n",
    "                          'arrival_lat', 'arrival_lon']]"
   ]
  },
  {
   "cell_type": "code",
   "execution_count": 29,
   "metadata": {
    "collapsed": true
   },
   "outputs": [],
   "source": [
    "#creating a json file for SouthWest Airlines\n",
    "df_southWest.to_json('SouthWest_Airlines.json', orient='records')"
   ]
  },
  {
   "cell_type": "code",
   "execution_count": 30,
   "metadata": {
    "collapsed": true
   },
   "outputs": [],
   "source": [
    "#creating a json file for Alaska Airlines\n",
    "df_southWest.to_json('Alaska_Airlines.json', orient='records')"
   ]
  },
  {
   "cell_type": "code",
   "execution_count": 31,
   "metadata": {
    "collapsed": true
   },
   "outputs": [],
   "source": [
    "#creating a json file for Hawaiian Airlines\n",
    "df_southWest.to_json('Hawaiian_Airlines.json', orient='records')"
   ]
  }
 ],
 "metadata": {
  "kernelspec": {
   "display_name": "Python 3",
   "language": "python",
   "name": "python3"
  },
  "language_info": {
   "codemirror_mode": {
    "name": "ipython",
    "version": 3
   },
   "file_extension": ".py",
   "mimetype": "text/x-python",
   "name": "python",
   "nbconvert_exporter": "python",
   "pygments_lexer": "ipython3",
   "version": "3.6.4"
  }
 },
 "nbformat": 4,
 "nbformat_minor": 2
}
