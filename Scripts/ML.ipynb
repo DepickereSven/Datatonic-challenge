{
 "cells": [
  {
   "cell_type": "markdown",
   "metadata": {},
   "source": [
    "# Predict arrival delay with sklearn\n",
    "# ----------------------------------------------"
   ]
  },
  {
   "cell_type": "markdown",
   "metadata": {},
   "source": [
    "# Data loading"
   ]
  },
  {
   "cell_type": "code",
   "execution_count": 10,
   "metadata": {},
   "outputs": [],
   "source": [
    "BASIC_PATH = '../Data/'\n",
    "ALL_FILES = BASIC_PATH + '*.csv'\n",
    "\n",
    "import pandas as pd\n",
    "import numpy as np\n",
    "import glob as glob\n",
    "\n",
    "def readAllFiles():\n",
    "    files = glob.glob(ALL_FILES)\n",
    "    frames = []\n",
    "\n",
    "    for file in files:\n",
    "        df = pd.read_csv(file, index_col = 0)\n",
    "        frames.append(df)\n",
    "\n",
    "    return pd.concat(frames)\n",
    "\n",
    "df = readAllFiles()"
   ]
  },
  {
   "cell_type": "markdown",
   "metadata": {},
   "source": [
    "# Remove columns not necessary for machine learning"
   ]
  },
  {
   "cell_type": "code",
   "execution_count": null,
   "metadata": {},
   "outputs": [],
   "source": [
    "df['month'] = pd.to_datetime(df.date).map(lambda x: x.month)"
   ]
  },
  {
   "cell_type": "code",
   "execution_count": null,
   "metadata": {},
   "outputs": [],
   "source": [
    "df = df.drop(['date', \n",
    "              'airline_code', \n",
    "              'departure_airport', \n",
    "              'departure_lat', \n",
    "              'departure_lon', \n",
    "              'departure_schedule', \n",
    "              'arrival_airport', \n",
    "              'arrival_lat', \n",
    "              'arrival_lon', \n",
    "              'arrival_schedule', \n",
    "              'departure_actual', \n",
    "              'arrival_actual', \n",
    "              'arrival_tz', \n",
    "              'departure_tz'], axis=1)"
   ]
  },
  {
   "cell_type": "code",
   "execution_count": null,
   "metadata": {},
   "outputs": [],
   "source": [
    "df.columns"
   ]
  },
  {
   "cell_type": "markdown",
   "metadata": {},
   "source": [
    "# Split into test and train, split into x and y, use pandas.get_dummies"
   ]
  },
  {
   "cell_type": "code",
   "execution_count": null,
   "metadata": {},
   "outputs": [],
   "source": [
    "from sklearn.model_selection import train_test_split\n",
    "import gc\n",
    "\n",
    "X = df.loc[:,['airline', \n",
    "              'departure_state', \n",
    "              'departure_delay',\n",
    "              'distance', \n",
    "              'speed', \n",
    "              'month']]\n",
    "X = pd.get_dummies(X, columns=['airline', \n",
    "                               'departure_state', \n",
    "                               'month'])\n",
    "#TODO add arrival_state? => memory problem\n",
    "#TODO add duration => not float problem\n",
    "\n",
    "y = df.loc[:,['arrival_delay']]\n",
    "\n",
    "X_train, X_test, y_train, y_test = train_test_split(X, y, random_state=0)\n",
    "\n",
    "#make place in memory\n",
    "del df\n",
    "del X\n",
    "del y\n",
    "gc.collect()"
   ]
  },
  {
   "cell_type": "markdown",
   "metadata": {},
   "source": [
    "# Random Forest Regressor model (good model)"
   ]
  },
  {
   "cell_type": "markdown",
   "metadata": {},
   "source": [
    "### Make model"
   ]
  },
  {
   "cell_type": "code",
   "execution_count": null,
   "metadata": {},
   "outputs": [],
   "source": [
    "from sklearn.ensemble import RandomForestRegressor\n",
    "\n",
    "rfrm = RandomForestRegressor()\n",
    "rfrm.fit(X_train, y_train.values.ravel())\n",
    "\n",
    "rfrm_y_predict = rfrm.predict(X_test)"
   ]
  },
  {
   "cell_type": "markdown",
   "metadata": {},
   "source": [
    "### Test model"
   ]
  },
  {
   "cell_type": "code",
   "execution_count": null,
   "metadata": {},
   "outputs": [],
   "source": [
    "import matplotlib.pyplot as plt\n",
    "from sklearn.metrics import mean_squared_error, r2_score, mean_absolute_error\n",
    "\n",
    "# The mean squared error\n",
    "print(\"Mean squared error: %.2f\" % mean_squared_error(y_test, rfrm_y_predict))\n",
    "\n",
    "# The mean absolute error\n",
    "print(\"Mean absolute error: %.2f\" % mean_absolute_error(y_test, rfrm_y_predict))\n",
    "\n",
    "# Explained variance score: 1 is perfect prediction\n",
    "print('Variance score: %.5f' % r2_score(y_test, rfrm_y_predict))\n",
    "\n",
    "#Graph\n",
    "plt.scatter(y_test.iloc[:500,:].index, y_test.iloc[:500,:].arrival_delay, c='b')\n",
    "predictDf = pd.DataFrame( data=rfrm_y_predict, index=y_test.index)\n",
    "plt.scatter(predictDf.iloc[:500,:].index, predictDf.iloc[:500,0], c='r')\n",
    "plt.rcParams['figure.figsize'] = [30, 10]\n",
    "plt.show()"
   ]
  },
  {
   "cell_type": "markdown",
   "metadata": {},
   "source": [
    "# Linear Regression model (best model)"
   ]
  },
  {
   "cell_type": "markdown",
   "metadata": {},
   "source": [
    "### Make model"
   ]
  },
  {
   "cell_type": "code",
   "execution_count": null,
   "metadata": {},
   "outputs": [],
   "source": [
    "from sklearn.linear_model import LinearRegression\n",
    "\n",
    "lrm = LinearRegression()\n",
    "lrm.fit(X_train, y_train)\n",
    "\n",
    "lrm_y_predict = lrm.predict(X_test)"
   ]
  },
  {
   "cell_type": "markdown",
   "metadata": {},
   "source": [
    "### Test model"
   ]
  },
  {
   "cell_type": "code",
   "execution_count": null,
   "metadata": {},
   "outputs": [],
   "source": [
    "import matplotlib.pyplot as plt\n",
    "from sklearn.metrics import mean_squared_error, r2_score, mean_absolute_error\n",
    "\n",
    "# The mean squared error\n",
    "print(\"Mean squared error: %.2f\" % mean_squared_error(y_test, lrm_y_predict))\n",
    "\n",
    "# The mean absolute error\n",
    "print(\"Mean absolute error: %.2f\" % mean_absolute_error(y_test, lrm_y_predict))\n",
    "\n",
    "# Explained variance score: 1 is perfect prediction\n",
    "print('Variance score: %.5f' % r2_score(y_test, lrm_y_predict))\n",
    "\n",
    "#Graph\n",
    "plt.scatter(y_test.iloc[:500,:].index, y_test.iloc[:500,:].arrival_delay, c='b')\n",
    "predictDf = pd.DataFrame( data=lrm_y_predict, index=y_test.index)\n",
    "plt.scatter(predictDf.iloc[:500,:].index, predictDf.iloc[:500,0], c='r')\n",
    "plt.rcParams['figure.figsize'] = [30, 10]\n",
    "plt.show()"
   ]
  },
  {
   "cell_type": "markdown",
   "metadata": {},
   "source": [
    "# Ridge Regression model (good model if alpha is small)"
   ]
  },
  {
   "cell_type": "markdown",
   "metadata": {},
   "source": [
    "### Make model"
   ]
  },
  {
   "cell_type": "code",
   "execution_count": null,
   "metadata": {},
   "outputs": [],
   "source": [
    "from sklearn.linear_model import Ridge\n",
    "\n",
    "rrm = Ridge(alpha=0.01, normalize=True)\n",
    "rrm.fit(X_train, y_train.values.ravel())\n",
    "\n",
    "rrm_y_predict = rrm.predict(X_test)"
   ]
  },
  {
   "cell_type": "markdown",
   "metadata": {},
   "source": [
    "### Test model"
   ]
  },
  {
   "cell_type": "code",
   "execution_count": null,
   "metadata": {},
   "outputs": [],
   "source": [
    "import matplotlib.pyplot as plt\n",
    "from sklearn.metrics import mean_squared_error, r2_score, mean_absolute_error\n",
    "\n",
    "# The mean squared error\n",
    "print(\"Mean squared error: %.2f\" % mean_squared_error(y_test, rrm_y_predict))\n",
    "\n",
    "# The mean absolute error\n",
    "print(\"Mean absolute error: %.2f\" % mean_absolute_error(y_test, rrm_y_predict))\n",
    "\n",
    "# Explained variance score: 1 is perfect prediction\n",
    "print('Variance score: %.5f' % r2_score(y_test, rrm_y_predict))"
   ]
  },
  {
   "cell_type": "markdown",
   "metadata": {},
   "source": [
    "# Lasso Regression model (bad model)"
   ]
  },
  {
   "cell_type": "markdown",
   "metadata": {},
   "source": [
    "### Make model"
   ]
  },
  {
   "cell_type": "code",
   "execution_count": null,
   "metadata": {},
   "outputs": [],
   "source": [
    "from sklearn.linear_model import Lasso\n",
    "\n",
    "lrm = Lasso(alpha=0.01, normalize=True)\n",
    "lrm.fit(X_train, y_train.values.ravel())\n",
    "\n",
    "lrm_y_predict = lrm.predict(X_test)"
   ]
  },
  {
   "cell_type": "markdown",
   "metadata": {},
   "source": [
    "### Test model"
   ]
  },
  {
   "cell_type": "code",
   "execution_count": null,
   "metadata": {},
   "outputs": [],
   "source": [
    "import matplotlib.pyplot as plt\n",
    "from sklearn.metrics import mean_squared_error, r2_score, mean_absolute_error\n",
    "\n",
    "# The mean squared error\n",
    "print(\"Mean squared error: %.2f\" % mean_squared_error(y_test, lrm_y_predict))\n",
    "\n",
    "# The mean absolute error\n",
    "print(\"Mean absolute error: %.2f\" % mean_absolute_error(y_test, lrm_y_predict))\n",
    "\n",
    "# Explained variance score: 1 is perfect prediction\n",
    "print('Variance score: %.5f' % r2_score(y_test, lrm_y_predict))"
   ]
  },
  {
   "cell_type": "markdown",
   "metadata": {},
   "source": [
    "# Classification"
   ]
  },
  {
   "cell_type": "markdown",
   "metadata": {},
   "source": [
    "## Prepare dataset"
   ]
  },
  {
   "cell_type": "code",
   "execution_count": 11,
   "metadata": {},
   "outputs": [],
   "source": [
    "df = df[0:100000] ## Shrink dataset for faster iteration\n",
    "df['month'] = pd.to_datetime(df.date).map(lambda x: x.month)\n",
    "df[\"arrival_delay\"] = df[\"arrival_delay\"].map(lambda delay: 0 if delay < 5 else 1)\n",
    "df.departure_schedule = pd.to_datetime(df.departure_schedule)\n",
    "df.departure_schedule = df.departure_schedule.map(lambda x: x.hour * 60 + x.minute)\n",
    "df = df.drop(['date', \n",
    "              'airline_code', \n",
    "              'departure_delay',\n",
    "              'departure_state', \n",
    "              'departure_lat', \n",
    "              'departure_lon', \n",
    "              'departure_schedule', \n",
    "              'arrival_state', \n",
    "              'arrival_lat', \n",
    "              'arrival_lon', \n",
    "              'arrival_schedule', \n",
    "              'departure_actual', \n",
    "              'arrival_actual', \n",
    "              'arrival_tz', \n",
    "              'departure_tz'], axis=1)"
   ]
  },
  {
   "cell_type": "markdown",
   "metadata": {},
   "source": [
    "## Create training and test data"
   ]
  },
  {
   "cell_type": "code",
   "execution_count": 12,
   "metadata": {},
   "outputs": [],
   "source": [
    "from sklearn.model_selection import train_test_split\n",
    "\n",
    "X = df.loc[:,['airline',\n",
    "              'departure_airport',\n",
    "              'arrival_airport',\n",
    "              'distance', \n",
    "              'speed', \n",
    "              'month']]\n",
    "X = pd.get_dummies(X, columns=['airline', \n",
    "                               'departure_airport',\n",
    "                               'arrival_airport',\n",
    "                               'month'])\n",
    "#TODO add arrival_state? => memory problem\n",
    "#TODO add duration => not float problem\n",
    "\n",
    "y = df.loc[:,['arrival_delay']]\n",
    "\n",
    "X_train, X_test, y_train, y_test = train_test_split(X, y)"
   ]
  },
  {
   "cell_type": "markdown",
   "metadata": {},
   "source": [
    "## Clean memory"
   ]
  },
  {
   "cell_type": "code",
   "execution_count": 13,
   "metadata": {},
   "outputs": [
    {
     "data": {
      "text/plain": [
       "116"
      ]
     },
     "execution_count": 13,
     "metadata": {},
     "output_type": "execute_result"
    }
   ],
   "source": [
    "import gc\n",
    "\n",
    "del df\n",
    "gc.collect()"
   ]
  },
  {
   "cell_type": "markdown",
   "metadata": {},
   "source": [
    "## Random Forrest classifier"
   ]
  },
  {
   "cell_type": "code",
   "execution_count": 14,
   "metadata": {},
   "outputs": [
    {
     "data": {
      "text/plain": [
       "RandomForestClassifier(bootstrap=True, class_weight=None, criterion='gini',\n",
       "            max_depth=None, max_features='auto', max_leaf_nodes=None,\n",
       "            min_impurity_decrease=0.0, min_impurity_split=None,\n",
       "            min_samples_leaf=1, min_samples_split=2,\n",
       "            min_weight_fraction_leaf=0.0, n_estimators=100, n_jobs=1,\n",
       "            oob_score=False, random_state=None, verbose=0,\n",
       "            warm_start=False)"
      ]
     },
     "execution_count": 14,
     "metadata": {},
     "output_type": "execute_result"
    }
   ],
   "source": [
    "from sklearn.ensemble import RandomForestClassifier\n",
    "rfc = RandomForestClassifier(n_estimators=100)\n",
    "rfc.fit(X_train, y_train.values.ravel())"
   ]
  },
  {
   "cell_type": "markdown",
   "metadata": {},
   "source": [
    "## K Nearest Neighbors classifier"
   ]
  },
  {
   "cell_type": "code",
   "execution_count": 15,
   "metadata": {},
   "outputs": [
    {
     "data": {
      "text/plain": [
       "KNeighborsClassifier(algorithm='auto', leaf_size=30, metric='minkowski',\n",
       "           metric_params=None, n_jobs=1, n_neighbors=5, p=2,\n",
       "           weights='uniform')"
      ]
     },
     "execution_count": 15,
     "metadata": {},
     "output_type": "execute_result"
    }
   ],
   "source": [
    "from sklearn.neighbors import KNeighborsClassifier\n",
    "knn = KNeighborsClassifier()\n",
    "knn.fit(X_train, y_train.values.ravel())"
   ]
  },
  {
   "cell_type": "markdown",
   "metadata": {},
   "source": [
    "## Show confusion matrixes of all models"
   ]
  },
  {
   "cell_type": "code",
   "execution_count": 16,
   "metadata": {},
   "outputs": [
    {
     "data": {
      "image/png": "[encoded data removed]",
      "text/plain": [
       "<Figure size 432x288 with 2 Axes>"
      ]
     },
     "metadata": {},
     "output_type": "display_data"
    },
    {
     "data": {
      "image/png": "[encoded data removed]",
      "text/plain": [
       "<Figure size 432x288 with 2 Axes>"
      ]
     },
     "metadata": {},
     "output_type": "display_data"
    }
   ],
   "source": [
    "import itertools\n",
    "import matplotlib.pyplot as plt\n",
    "from sklearn.metrics import confusion_matrix\n",
    "\n",
    "def plot_confusion_matrix(cm, classes,\n",
    "                          title='Confusion matrix',\n",
    "                          cmap=plt.cm.Blues):\n",
    "    cm = cm.astype('float') / cm.sum(axis=1)[:, np.newaxis]\n",
    "\n",
    "    plt.imshow(cm, interpolation='nearest', cmap=cmap)\n",
    "    plt.title(title)\n",
    "    plt.colorbar()\n",
    "    tick_marks = np.arange(len(classes))\n",
    "    plt.xticks(tick_marks, classes, rotation=45)\n",
    "    plt.yticks(tick_marks, classes)\n",
    "\n",
    "    fmt = '.2f'\n",
    "    thresh = cm.max() / 2.\n",
    "    for i, j in itertools.product(range(cm.shape[0]), range(cm.shape[1])):\n",
    "        plt.text(j, i, format(cm[i, j], fmt),\n",
    "                 horizontalalignment=\"center\",\n",
    "                 color=\"white\" if cm[i, j] > thresh else \"black\")\n",
    "\n",
    "    plt.tight_layout()\n",
    "    plt.ylabel('True label')\n",
    "    plt.xlabel('Predicted label')\n",
    "\n",
    "class_names = [\"ontime\", \"delayed\"]\n",
    "\n",
    "models = [\n",
    "    { \"name\": \"Random Forrest\", \"model\": rfc },\n",
    "    { \"name\": \"K-Nearest\", \"model\": knn }\n",
    "]\n",
    "for model in models:\n",
    "    # Compute confusion matrix\n",
    "    pred = model[\"model\"].predict(X_test)\n",
    "    cnf_matrix = confusion_matrix(y_test, pred)\n",
    "    np.set_printoptions(precision=2)\n",
    "    plt.figure()\n",
    "    plot_confusion_matrix(cnf_matrix, classes=class_names, title=model[\"name\"])\n",
    "    plt.show()"
   ]
  },
  {
   "cell_type": "code",
   "execution_count": null,
   "metadata": {},
   "outputs": [],
   "source": []
  }
 ],
 "metadata": {
  "kernelspec": {
   "display_name": "Python 3",
   "language": "python",
   "name": "python3"
  },
  "language_info": {
   "codemirror_mode": {
    "name": "ipython",
    "version": 3
   },
   "file_extension": ".py",
   "mimetype": "text/x-python",
   "name": "python",
   "nbconvert_exporter": "python",
   "pygments_lexer": "ipython3",
   "version": "3.6.4"
  }
 },
 "nbformat": 4,
 "nbformat_minor": 2
}
